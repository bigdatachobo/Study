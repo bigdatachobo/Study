{
 "cells": [
  {
   "cell_type": "markdown",
   "id": "33cafdf1",
   "metadata": {},
   "source": [
    "# 03-OpenCV-Python 기초사용법"
   ]
  },
  {
   "cell_type": "markdown",
   "id": "0553cd1f",
   "metadata": {},
   "source": [
    "## 1.영상의 속성과 픽셀 값 참조"
   ]
  },
  {
   "attachments": {},
   "cell_type": "markdown",
   "id": "e82f9bb4",
   "metadata": {},
   "source": [
    "### 03-img-info.py\n",
    "영상의 속성 과 픽셀 값 참조\n"
   ]
  },
  {
   "cell_type": "code",
   "execution_count": null,
   "id": "730cc969",
   "metadata": {},
   "outputs": [],
   "source": [
    "import sys\n",
    "import cv2\n",
    "\n",
    "\n",
    "# 영상 불러오기\n",
    "img1 = cv2.imread('images\\cat.bmp', cv2.IMREAD_GRAYSCALE)\n",
    "img2 = cv2.imread('images\\cat.bmp', cv2.IMREAD_COLOR)\n",
    "\n",
    "if img1 is None or img2 is None:\n",
    "    print('Image load failed!')\n",
    "    sys.exit()\n",
    "\n",
    "# 영상의 속성 참조\n",
    "print('type(img1):', type(img1))\n",
    "print('img1.shape:', img1.shape)\n",
    "print('img2.shape:', img2.shape)\n",
    "print('img1.dtype:', img1.dtype)\n",
    "\n",
    "# 영상의 크기 참조\n",
    "h, w = img2.shape[:2]\n",
    "print('img2 size: {} x {}'.format(w, h))\n",
    "\n",
    "if len(img1.shape) == 2:\n",
    "    print('img1 is a grayscale image')\n",
    "elif len(img1.shape) == 3:\n",
    "    print('img1 is a truecolor image')\n",
    "\n",
    "cv2.imshow('img1', img1)\n",
    "cv2.imshow('img2', img2)\n",
    "cv2.waitKey()\n",
    "\n",
    "# 영상의 픽셀 값 참조\n",
    "for y in range(h):\n",
    "    for x in range(w):\n",
    "        img1[y, x] = 255\n",
    "        img2[y, x] = (0, 0, 255)        \n",
    "\n",
    "# img1[:,:] = 255\n",
    "# img2[:,:] = (0, 0, 255)\n",
    "\n",
    "cv2.imshow('img1', img1)\n",
    "cv2.imshow('img2', img2)\n",
    "cv2.waitKey()\n",
    "\n",
    "cv2.destroyAllWindows()\n"
   ]
  },
  {
   "cell_type": "markdown",
   "id": "0ea28c55",
   "metadata": {},
   "source": [
    "---------"
   ]
  },
  {
   "cell_type": "markdown",
   "id": "fc4aff28",
   "metadata": {},
   "source": [
    "## 2. 영상의 생성, 복사, 부분 영상 추출"
   ]
  },
  {
   "cell_type": "markdown",
   "id": "7fcecf96",
   "metadata": {},
   "source": [
    "### 03-img-ops\n",
    "### 영상의 생성\n"
   ]
  },
  {
   "cell_type": "code",
   "execution_count": null,
   "id": "810dfebf",
   "metadata": {},
   "outputs": [],
   "source": [
    "import numpy as np\n",
    "import cv2\n",
    "\n",
    "\n",
    "# 새 영상 생성하기\n",
    "img1 = np.empty((240, 320), dtype=np.uint8)       # grayscale image\n",
    "img2 = np.zeros((240, 320, 3), dtype=np.uint8)    # color image\n",
    "#img3 = np.ones((240, 320), dtype=np.uint8) * 255  # dark gray\n",
    "img3 = np.ones((240, 320), dtype=np.uint8) * 155  # dark gray\n",
    "img4 = np.full((240, 320, 3), (0, 255, 255), dtype=np.uint8)  # yellow\n",
    "\n",
    "cv2.imshow('img1', img1)\n",
    "cv2.imshow('img2', img2)\n",
    "cv2.imshow('img3', img3)\n",
    "cv2.imshow('img4', img4)\n",
    "cv2.waitKey()\n",
    "cv2.destroyAllWindows()"
   ]
  },
  {
   "cell_type": "markdown",
   "id": "7c598e37",
   "metadata": {},
   "source": [
    "### 영상의 복사"
   ]
  },
  {
   "cell_type": "code",
   "execution_count": null,
   "id": "430633d0",
   "metadata": {},
   "outputs": [],
   "source": [
    "\n",
    "# 영상 복사\n",
    "img1 = cv2.imread('images\\HappyFish.png')\n",
    "\n",
    "img2 = img1\n",
    "img3 = img1.copy()\n",
    "\n",
    "#img1.fill(255)\n",
    "\n",
    "cv2.imshow('img1', img1)\n",
    "cv2.imshow('img2', img2)\n",
    "cv2.imshow('img3', img3)\n",
    "cv2.waitKey()\n",
    "cv2.destroyAllWindows()"
   ]
  },
  {
   "cell_type": "markdown",
   "id": "f1bd418f",
   "metadata": {},
   "source": [
    "### 부분 영상 추출"
   ]
  },
  {
   "cell_type": "code",
   "execution_count": null,
   "id": "02b8ed7d",
   "metadata": {},
   "outputs": [],
   "source": [
    "# 부분 영상 추출\n",
    "img1 = cv2.imread('images\\HappyFish.png')\n",
    "\n",
    "img2 = img1[40:120, 30:150]  # numpy.ndarray의 슬라이싱\n",
    "img3 = img1[40:120, 30:150].copy()\n",
    "\n",
    "img2.fill(0)\n",
    "\n",
    "cv2.imshow('img1', img1)\n",
    "cv2.imshow('img2', img2)\n",
    "cv2.imshow('img3', img3)\n",
    "cv2.waitKey()\n",
    "cv2.destroyAllWindows()\n"
   ]
  },
  {
   "cell_type": "markdown",
   "id": "3ab104cb",
   "metadata": {},
   "source": [
    "---------"
   ]
  },
  {
   "cell_type": "markdown",
   "id": "1c34e11e",
   "metadata": {},
   "source": [
    "## 3. 마스크 연산과 ROI"
   ]
  },
  {
   "cell_type": "markdown",
   "id": "8c14ef13",
   "metadata": {},
   "source": [
    "### 03-mask-op.py\n",
    "### ROI: Region of Interest, 관심 영역\n",
    "### 마스크 연산"
   ]
  },
  {
   "cell_type": "code",
   "execution_count": null,
   "id": "cf5c40b2",
   "metadata": {},
   "outputs": [],
   "source": [
    "import sys\n",
    "import cv2\n",
    "\n",
    "\n",
    "# 마스크 영상을 이용한 영상 합성\n",
    "src = cv2.imread('images\\airplane.bmp', cv2.IMREAD_COLOR)\n",
    "mask = cv2.imread('images\\mask_plane.bmp', cv2.IMREAD_GRAYSCALE)\n",
    "dst = cv2.imread('images\\field.bmp', cv2.IMREAD_COLOR)\n",
    "\n",
    "#if src is None or mask is None or dst is None:\n",
    "if dst is None :    \n",
    "    print('Image load failed!')\n",
    "    sys.exit()\n",
    "\n"
   ]
  },
  {
   "cell_type": "code",
   "execution_count": null,
   "id": "5c8dfe49",
   "metadata": {},
   "outputs": [],
   "source": [
    "cv2.copyTo(src, mask, dst)\n",
    "# dst[mask > 0] = src[mask > 0]\n",
    "\n",
    "cv2.imshow('src', src)\n",
    "cv2.imshow('dst', dst)\n",
    "cv2.imshow('mask', mask)\n",
    "cv2.waitKey()\n",
    "cv2.destroyAllWindows()"
   ]
  },
  {
   "cell_type": "code",
   "execution_count": null,
   "id": "d41d88c8",
   "metadata": {},
   "outputs": [],
   "source": [
    "import sys\n",
    "import cv2\n",
    "\n",
    "# 알파 채널을 마스크 영상으로 이용\n",
    "src = cv2.imread('images\\cat.bmp', cv2.IMREAD_COLOR)\n",
    "logo = cv2.imread('images\\opencv-logo-white.png', cv2.IMREAD_UNCHANGED)\n",
    "\n",
    "if src is None or logo is None:\n",
    "    print('Image load failed!')\n",
    "    sys.exit()\n",
    "\n",
    "mask = logo[:, :, 3]    # mask는 알파 채널로 만든 마스크 영상\n",
    "logo = logo[:, :, :-1]  # logo는 b, g, r 3채널로 구성된 컬러 영상\n",
    "h, w = mask.shape[:2]\n",
    "crop = src[10:10+h, 10:10+w]  # logo, mask와 같은 크기의 부분 영상 추출\n",
    "\n",
    "cv2.copyTo(logo, mask, crop)\n",
    "#crop[mask > 0] = logo[mask > 0]\n",
    "\n",
    "cv2.imshow('src', src)\n",
    "cv2.imshow('logo', logo)\n",
    "cv2.imshow('mask', mask)\n",
    "cv2.waitKey()\n",
    "cv2.destroyAllWindows()\n",
    " "
   ]
  },
  {
   "cell_type": "code",
   "execution_count": null,
   "id": "8b8e30de",
   "metadata": {},
   "outputs": [],
   "source": []
  }
 ],
 "metadata": {
  "kernelspec": {
   "display_name": "Python 3 (ipykernel)",
   "language": "python",
   "name": "python3"
  },
  "language_info": {
   "codemirror_mode": {
    "name": "ipython",
    "version": 3
   },
   "file_extension": ".py",
   "mimetype": "text/x-python",
   "name": "python",
   "nbconvert_exporter": "python",
   "pygments_lexer": "ipython3",
   "version": "3.8.10"
  }
 },
 "nbformat": 4,
 "nbformat_minor": 5
}
