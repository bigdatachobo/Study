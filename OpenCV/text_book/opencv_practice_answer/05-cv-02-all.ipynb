{
 "cells": [
  {
   "cell_type": "markdown",
   "id": "0a0a4f06",
   "metadata": {},
   "source": [
    "# 02-OpenCV-Python 시작하기"
   ]
  },
  {
   "cell_type": "markdown",
   "id": "933b3471",
   "metadata": {},
   "source": [
    "## 1.OpenCV 설치"
   ]
  },
  {
   "cell_type": "markdown",
   "id": "94f51795",
   "metadata": {},
   "source": [
    "### 02-opencvtest.py\n",
    " - 300행, 400열 크기의 행렬 생성하여 행렬의 모든 원소의 값을 회색(200)으로 지정\n",
    " - 이 행렬을 “window title” 이름의 윈도우에 영상으로 표시"
   ]
  },
  {
   "cell_type": "code",
   "execution_count": null,
   "id": "eb5e1ad5",
   "metadata": {},
   "outputs": [],
   "source": [
    "import numpy as np\n",
    "import cv2\n",
    "\n",
    "image = np.zeros((300, 400), np.uint8)\n",
    "image.fill(200)      # 또는 image[:] = 200\n",
    "\n",
    "cv2.imshow(\"Window title\", image)\n",
    "cv2.waitKey(0)\n",
    "cv2.destroyAllWindows()"
   ]
  },
  {
   "cell_type": "markdown",
   "id": "80589125",
   "metadata": {},
   "source": [
    "-----------"
   ]
  },
  {
   "cell_type": "markdown",
   "id": "5b9dd06f",
   "metadata": {},
   "source": [
    "## 2.영상파일 출력하기"
   ]
  },
  {
   "cell_type": "markdown",
   "id": "3b5115da",
   "metadata": {},
   "source": [
    "### 02-hellocv.py\n",
    " - BMP 파일을 불러와서 출력하기  "
   ]
  },
  {
   "cell_type": "code",
   "execution_count": 2,
   "id": "3b6db498",
   "metadata": {},
   "outputs": [
    {
     "name": "stdout",
     "output_type": "stream",
     "text": [
      "Hello OpenCV 4.5.2\n",
      "<class 'numpy.ndarray'>\n",
      "uint8\n"
     ]
    }
   ],
   "source": [
    "import sys\n",
    "import cv2\n",
    "\n",
    "print('Hello OpenCV', cv2.__version__)\n",
    "\n",
    "image = cv2.imread('images\\cat.bmp')\n",
    "\n",
    "if image is None:\n",
    "    print('Image load failed!')\n",
    "    sys.exit()\n",
    "\n",
    "cv2.namedWindow('image')\n",
    "cv2.imshow(\"image\", image)\n",
    "cv2.waitKey()\n",
    "\n",
    "cv2.destroyAllWindows()"
   ]
  },
  {
   "cell_type": "markdown",
   "id": "111ba9ff",
   "metadata": {},
   "source": [
    "-------------------"
   ]
  },
  {
   "cell_type": "markdown",
   "id": "f8e25859",
   "metadata": {},
   "source": [
    "## 3.OpenCV 주요 함수"
   ]
  },
  {
   "cell_type": "markdown",
   "id": "7de50cf9",
   "metadata": {},
   "source": [
    "### 02-window-resize.py\n",
    " - WINDOW_AUTOSIZE  vs. WINDOW_NORMAL 옵션의 차이 확인"
   ]
  },
  {
   "cell_type": "code",
   "execution_count": null,
   "id": "4ba9b25b",
   "metadata": {},
   "outputs": [],
   "source": [
    "import numpy as np\n",
    "import cv2\n",
    "\n",
    "image = np.zeros((200, 300), np.uint8)\n",
    "image.fill(255)       # 또는 image[:] = 255, 흰색지정\n",
    "\n",
    "title1, title2 = 'AUTOSIZE', 'NORMAL'   # 윈도우 이름\n",
    "cv2.namedWindow(title1, cv2.WINDOW_AUTOSIZE)\n",
    "cv2.namedWindow(title2, cv2.WINDOW_NORMAL)\n",
    "\n",
    "cv2.imshow(title1, image)\n",
    "cv2.imshow(title2, image)\n",
    "cv2.resizeWindow(title1, 400, 300)\n",
    "cv2.resizeWindow(title2, 400, 300)\n",
    "cv2.waitKey(0)\n",
    "cv2.destroyAllWindows() "
   ]
  },
  {
   "cell_type": "markdown",
   "id": "94698832",
   "metadata": {},
   "source": [
    "### 02-event-key.py\n",
    " - 화살표키와 같은 특수 키 입력 확인하기"
   ]
  },
  {
   "cell_type": "code",
   "execution_count": null,
   "id": "da60928c",
   "metadata": {
    "scrolled": true
   },
   "outputs": [],
   "source": [
    "import numpy as np\n",
    "import cv2\n",
    "\n",
    "## switch case문을 사전(dictionary)으로 구현\n",
    "switch_case = {\n",
    "\tord('a'): \"a키 입력\",           # ord() 함수- 문자를 아스키코드로 변환\n",
    "    ord('b'): \"b키 입력\",\n",
    "    0x41: \"A키 입력\",\n",
    "    int('0x42', 16): \"B키 입력\",       # 16진수인 0x42를 10진수로 변환하면 66임\n",
    "    2424832: \"왼쪽 화살표키 입력\",      # 0x250000\n",
    "    2490368: \"윗쪽 화살표키 입력\",      # 0x260000\n",
    "    2555904: \"오른쪽 화살표키 입력\",    # 0x270000\n",
    "    2621440: \"아래쪽 화살표키 입력\"     # 0x280000\n",
    "}\n",
    "\n",
    "image = np.ones((200, 300), np.float)      \t# 화소값이 1인 행렬 생성\n",
    "cv2.namedWindow('Keyboard Event')\t\t\t# 윈도우 이름\n",
    "cv2.imshow('Keyboard Event', image)\n",
    "\n",
    "while True:\t\t\t\t\t\t\t\t\t# 무한 반복\n",
    "    key = cv2.waitKeyEx(100)          \t\t# 100ms 동안 키 이벤트 대기\n",
    "    if key == 27: break                \t\t# ESC 키 누르면 종료\n",
    "\n",
    "    try:\n",
    "        result = switch_case[key]\n",
    "        print(result)\n",
    "    except KeyError:\n",
    "        result = -1\n",
    "\n",
    "cv2.destroyAllWindows()                 \t# 열린 모든 윈도우 제거"
   ]
  },
  {
   "cell_type": "markdown",
   "id": "5d0d6e14",
   "metadata": {},
   "source": [
    "-----------------"
   ]
  },
  {
   "cell_type": "markdown",
   "id": "166b71b5",
   "metadata": {},
   "source": [
    "## 4.matplotlib에서 영상 출력하기"
   ]
  },
  {
   "cell_type": "markdown",
   "id": "df0cb66b",
   "metadata": {},
   "source": [
    "### 02-matplot.py\n",
    " - Matplotlib 이용하여 영상 출력하기\n",
    " "
   ]
  },
  {
   "cell_type": "code",
   "execution_count": null,
   "id": "0b83aaa3",
   "metadata": {},
   "outputs": [],
   "source": [
    "import matplotlib.pyplot as plt\n",
    "import cv2\n",
    "\n",
    "# 컬러 영상 출력\n",
    "imgBGR = cv2.imread('images\\cat.bmp')\n",
    "imgRGB = cv2.cvtColor(imgBGR, cv2.COLOR_BGR2RGB)\n",
    "\n",
    "plt.axis('off')\n",
    "plt.imshow(imgRGB)\n",
    "plt.show()\n",
    "\n",
    "# 그레이스케일 영상 출력\n",
    "imgGray = cv2.imread('images\\cat.bmp', cv2.IMREAD_GRAYSCALE)\n",
    "\n",
    "plt.axis('off')\n",
    "plt.imshow(imgGray, cmap='gray')\n",
    "plt.show()"
   ]
  },
  {
   "cell_type": "markdown",
   "id": "35af7f85",
   "metadata": {},
   "source": [
    "### 02-matplot-one.py\n",
    " - Matplotlib 이용하여 창 하나에 여러 개의 이미지 출력하기"
   ]
  },
  {
   "cell_type": "code",
   "execution_count": null,
   "id": "893483a9",
   "metadata": {},
   "outputs": [],
   "source": [
    "import matplotlib.pyplot as plt\n",
    "import cv2\n",
    "\n",
    "# 컬러 영상 & 그레이스케일 영상 불러오기\n",
    "imgBGR = cv2.imread('images\\cat.bmp')\n",
    "imgRGB = cv2.cvtColor(imgBGR, cv2.COLOR_BGR2RGB)\n",
    "imgGray = cv2.imread('images\\cat.bmp', cv2.IMREAD_GRAYSCALE)\n",
    "\n",
    "# 두 개의 영상을 함께 출력\n",
    "plt.subplot(121), plt.axis('off'), plt.imshow(imgRGB)\n",
    "plt.subplot(122), plt.axis('off'), plt.imshow(imgGray, cmap='gray')\n",
    "plt.show()"
   ]
  },
  {
   "cell_type": "markdown",
   "id": "f40b6365",
   "metadata": {},
   "source": [
    "-----------"
   ]
  },
  {
   "cell_type": "markdown",
   "id": "61430c9b",
   "metadata": {},
   "source": [
    "## [실전연습] 이미지 슬라이드 쇼 만들기"
   ]
  },
  {
   "cell_type": "markdown",
   "id": "a7c0536b",
   "metadata": {},
   "source": [
    "### 미션1. 02-SlideShow-mission1.py\n",
    "특정 폴더(images)에 있는 이미지 파일 목록을 읽기"
   ]
  },
  {
   "cell_type": "code",
   "execution_count": null,
   "id": "b77d9542",
   "metadata": {},
   "outputs": [],
   "source": [
    "import sys\n",
    "import cv2\n",
    "\n",
    "# 특정 폴더의 이미지 파일을 모두 img_files 리스트에 추가\n",
    "# 방법1: os 모듈 이용\n",
    "import os\n",
    "\n",
    "file_list = os.listdir('images')\n",
    "img_files = [file for file in file_list if file.endswith('.jpg')]\n",
    "\n",
    "# 방법2: glob 모듈 이용\n",
    "import glob\n",
    "\n",
    "img_files = glob.glob('images\\*.jpg')\n",
    "#img_files = glob.glob('.\\\\images\\\\*.jpg')\n",
    "\n",
    "if not img_files:\n",
    "    print(\"There are no jpg files in 'images' folder\")\n",
    "    sys.exit()\n",
    "\n",
    "print(img_files)"
   ]
  },
  {
   "cell_type": "markdown",
   "id": "a345ad50",
   "metadata": {},
   "source": [
    "### 02-SlideShow-mission1.py\n",
    "미션2. 이미지를 전체 화면으로 출력하기\n"
   ]
  },
  {
   "cell_type": "code",
   "execution_count": 1,
   "id": "2a2ee6fc",
   "metadata": {},
   "outputs": [],
   "source": [
    "import sys\n",
    "import glob\n",
    "import cv2\n",
    "\n",
    "\n",
    "#1.특정 폴더의 이미지 파일을 모두 img_files 리스트에 추가\n",
    "img_files = glob.glob('images/*.jpg')\n",
    "\n",
    "if not img_files:\n",
    "    print(\"There are no jpg files in 'images' folder\")\n",
    "    sys.exit()\n",
    "\n",
    "#2.전체 화면으로 'image' 창 생성\n",
    "cv2.namedWindow('image', cv2.WINDOW_NORMAL)\n",
    "cv2.setWindowProperty('image', cv2.WND_PROP_FULLSCREEN, \n",
    "                                cv2.WINDOW_FULLSCREEN)\n",
    "\n",
    "for i in range(len(img_files)):\n",
    "    image = cv2.imread(img_files[i])\n",
    "\n",
    "    if image is None:\n",
    "        print('Image load failed!')\n",
    "        sys.exit()    \n",
    "\n",
    "    cv2.imshow(\"image\", image)\n",
    "    cv2.waitKey()\n",
    "\n",
    "cv2.destroyAllWindows()\n"
   ]
  },
  {
   "cell_type": "markdown",
   "id": "1b10b9af",
   "metadata": {},
   "source": [
    "### 미션3. 02-SlideShow-mission3.py\n",
    "1초 간격으로 이미지를 출력하고 다음 이미지로 교체하기(무한루프)\n"
   ]
  },
  {
   "cell_type": "code",
   "execution_count": 2,
   "id": "fc335327",
   "metadata": {},
   "outputs": [
    {
     "name": "stdout",
     "output_type": "stream",
     "text": [
      "['images\\\\car.jpg', 'images\\\\car_sports_car_neon_157154_1024x768.jpg', 'images\\\\cat.jpg', 'images\\\\dog.jpg', 'images\\\\key_daisies_inscription_dream_119219_1280x1024.jpg', 'images\\\\kite.jpg', 'images\\\\lotus_water_lily_water_113233_1280x1024.jpg', 'images\\\\note_motivation_text_words_119310_1280x1024.jpg', 'images\\\\person.jpg', 'images\\\\road_marking_evening_clouds_horizon_120298_1280x1024.jpg', 'images\\\\sheep.jpg', 'images\\\\smile_inscription_hand_hello_118043_1280x1024.jpg', 'images\\\\traffic.jpg']\n"
     ]
    }
   ],
   "source": [
    "import sys\n",
    "import glob\n",
    "import cv2\n",
    "\n",
    "\n",
    "# 1.특정 폴더의 이미지 파일을 모두 img_files 리스트에 추가\n",
    "img_files = glob.glob('images/*.jpg')\n",
    "\n",
    "if not img_files:\n",
    "    print(\"There are no jpg files in 'images' folder\")\n",
    "    sys.exit()\n",
    "\n",
    "print(img_files)\n",
    "\n",
    "# 2.전체 화면으로 'image' 창 생성\n",
    "cv2.namedWindow('image', cv2.WINDOW_NORMAL)\n",
    "cv2.setWindowProperty('image', cv2.WND_PROP_FULLSCREEN, \n",
    "                                cv2.WINDOW_FULLSCREEN)\n",
    "\n",
    "# 3.1초간격으로 이미지 슬라이드 쇼(무한 루프)\n",
    "cnt = len(img_files)\n",
    "idx = 0\n",
    "while True:\n",
    "    img = cv2.imread(img_files[idx])\n",
    "\n",
    "    if img is None:\n",
    "        print('Image load failed!')\n",
    "        break\n",
    "\n",
    "    cv2.imshow('image', img)\n",
    "    if cv2.waitKey(1000) >= 0:\n",
    "        break\n",
    "\n",
    "    idx += 1\n",
    "    if idx >= cnt:\n",
    "        idx = 0\n",
    "\n",
    "cv2.destroyAllWindows()\n"
   ]
  },
  {
   "cell_type": "code",
   "execution_count": null,
   "id": "c1a10f20",
   "metadata": {},
   "outputs": [],
   "source": []
  }
 ],
 "metadata": {
  "kernelspec": {
   "display_name": "Python 3 (ipykernel)",
   "language": "python",
   "name": "python3"
  },
  "language_info": {
   "codemirror_mode": {
    "name": "ipython",
    "version": 3
   },
   "file_extension": ".py",
   "mimetype": "text/x-python",
   "name": "python",
   "nbconvert_exporter": "python",
   "pygments_lexer": "ipython3",
   "version": "3.8.10"
  }
 },
 "nbformat": 4,
 "nbformat_minor": 5
}
